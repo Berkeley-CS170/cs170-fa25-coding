{
 "cells": [
  {
   "cell_type": "markdown",
   "id": "1ac340ad",
   "metadata": {},
   "source": [
    "# Quick Select\n",
    "\n",
    "In this coding assignment, you will implement the quick select algorithm that we've seen in lecture.\n",
    "\n",
    "The selection problem is defined as follows: given an unsorted array of integers```[a1, a2, ..., an]``` and an integer ```k``` where $1 \\leq$ ```k``` $\\leq n$, output the k-th smallest element in the array. Note that ```k``` starts from 1 here, following the convention in lecture.\n",
    "\n",
    "You should be able to implement everything using Python built-in functions. You are NOT allowed to use any external libraries like numpy, etc. to implement the quick select algorithm."
   ]
  },
  {
   "cell_type": "markdown",
   "id": "102adb5b",
   "metadata": {},
   "source": [
    "### DataHub instructions:\n",
    "* Run the cell below **and restart the kernel if needed**\n",
    "* If you're running locally, go to the next Markdown cell and follow the instructions there.\n"
   ]
  },
  {
   "cell_type": "code",
   "execution_count": null,
   "id": "f6653050",
   "metadata": {},
   "outputs": [],
   "source": [
    "# Install dependencies for DataHub\n",
    "!pip install -r requirements.txt --quiet"
   ]
  },
  {
   "cell_type": "markdown",
   "id": "b4e512d0",
   "metadata": {},
   "source": [
    "### Local setup instructions:\n",
    "You'll need to perform some extra setup.\n",
    "#### First-time setup\n",
    "1. Install `uv` following the instructions here: https://docs.astral.sh/uv/getting-started/installation/. \n",
    "2. Create a virtual environment (venv) using `uv venv --python 3.9`. \n",
    "3. Activate the environment: \n",
    "    - If on macOS/Linux: `source .venv/bin/activate`\n",
    "    - If on Windows: `.venv\\Scripts\\activate`\n",
    "4. Install jupyter: `uv pip install jupyter`.\n",
    "5. If you ever want to switch to a different environment, simply run the command `deactivate`. \n",
    "\n",
    "For all reasonable use cases, `uv` can be used as a drop in replacement for `pip` for Python environment management. It's way faster and has a very nice interface. There's a lot more to `uv` than venvs! You can read more about it here: https://docs.astral.sh/uv/getting-started/\n",
    "\n",
    "If you really want to use conda, check the README for instructions, but we highly recommend using uv --- you won't regret it!\n",
    "\n",
    "\n",
    "#### Every time you want to work\n",
    "* `cd` to the directory which contains this notebook `cd /path/to/notebook-dir/`. \n",
    "* Make sure you've activated the venv: `source .venv/bin/activate` or `.venv\\Scripts\\activate` if on Windows.\n",
    "* Launch jupyter: `jupyter notebook` or `jupyter lab`. You can also use directly VSCode's built in ipynb UI, which is quite nice and featureful (in which case you won't even need to activate the venv, you'll be prompted to select the kernel for the notebook, and then pick the venv you created).\n",
    "* Run the cell below **and restart the kernel if needed**"
   ]
  },
  {
   "cell_type": "code",
   "execution_count": null,
   "id": "03e02779",
   "metadata": {},
   "outputs": [],
   "source": [
    "# Install dependencies for local venv\n",
    "!uv pip install -r requirements.txt --quiet"
   ]
  },
  {
   "cell_type": "code",
   "execution_count": null,
   "id": "32159d11",
   "metadata": {},
   "outputs": [],
   "source": [
    "import otter\n",
    "\n",
    "assert (otter.__version__ >= \"4.4.1\"), \"Please reinstall the requirements and restart your kernel.\"\n",
    "\n",
    "grader = otter.Notebook(\"quick_select.ipynb\")\n",
    "import numpy as np # this is for the autograder!\n",
    "from time import time\n",
    "import tqdm\n",
    "\n",
    "rng_seed = 0"
   ]
  },
  {
   "cell_type": "markdown",
   "id": "feed5531",
   "metadata": {
    "deletable": false,
    "editable": false
   },
   "source": [
    "## Q0: Naive Select with Sorting\n",
    "\n",
    "As a warmup, let's first implement a more straight forward way to solve the selection problem: sort and choose! For simplicity, you are allowed to use the built-in ```sorted``` fucntion to sort the list of integer, although you can implement your own sorting algorithm if you'd like. You can also use this to test the correctness of your quick select implementation if you want to write your own test cases.\n",
    "\n",
    "_Points:_ 1"
   ]
  },
  {
   "cell_type": "code",
   "execution_count": null,
   "id": "823ce296",
   "metadata": {
    "tags": [
     "otter_answer_cell"
    ]
   },
   "outputs": [],
   "source": [
    "def select_with_sorting(arr, k):\n",
    "    \"\"\"\n",
    "    Select the k-th smallest element in arr by sorting. To align with the lecture, k starts from 1.\n",
    "    Hint: You can use the python built-in `sorted` function.\n",
    "\n",
    "    Args:\n",
    "        arr (list[int]): list of comparable elements\n",
    "        k (int): index of the element to select\n",
    "\n",
    "    Returns:\n",
    "        (int): The k-th smallest element in arr.\n",
    "    \"\"\"\n",
    "    ..."
   ]
  },
  {
   "cell_type": "code",
   "execution_count": null,
   "id": "d7d9fb67",
   "metadata": {
    "deletable": false,
    "editable": false
   },
   "outputs": [],
   "source": [
    "grader.check(\"q0\")"
   ]
  },
  {
   "cell_type": "markdown",
   "id": "beeaa4fe",
   "metadata": {
    "deletable": false,
    "editable": false
   },
   "source": [
    "## Q1: Partition\n",
    "\n",
    "Nice job! Now we will start implementing quick select. But before that, we'll implement a helper partition function.\n",
    "\n",
    "Recall the partition function mentioned in lecture: the function takes in a list and a pivot and returns 3 lists, each containing values in the original array that are less than, equal to, and greater than the pivot value.\n",
    "\n",
    "For simplicity, you may assume the input array is non-empty. Also, you should always choose the FIRST element in the input array as the pivot.\n",
    "\n",
    "_Points:_ 2"
   ]
  },
  {
   "cell_type": "code",
   "execution_count": null,
   "id": "017f973f",
   "metadata": {
    "tags": [
     "otter_answer_cell"
    ]
   },
   "outputs": [],
   "source": [
    "def partition(arr):\n",
    "    \"\"\"\n",
    "    Partition the input array around the pivot (the first element in arr).\n",
    "    \n",
    "    Args:\n",
    "        arr (list[arr]): non-empty array of integers\n",
    "        \n",
    "    Returns:\n",
    "        A tuple of three list[int]: (left, middle, right), where\n",
    "            - left contains elements less than the pivot,\n",
    "            - middle contains elements equal to the pivot,\n",
    "            - right contains elements greater than the pivot.\n",
    "            \n",
    "    Note: You may assume that arr is non-empty.\n",
    "    \"\"\"\n",
    "    ..."
   ]
  },
  {
   "cell_type": "code",
   "execution_count": null,
   "id": "8b5cc8cb",
   "metadata": {
    "deletable": false,
    "editable": false
   },
   "outputs": [],
   "source": [
    "grader.check(\"q1\")"
   ]
  },
  {
   "cell_type": "markdown",
   "id": "f458148a",
   "metadata": {
    "deletable": false,
    "editable": false
   },
   "source": [
    "## Q2: Quick Select\n",
    "\n",
    "Great job! Now we will implement the quick select algorithm from class.\n",
    "\n",
    "Hint: remember to use the partition function defined above!\n",
    "\n",
    "_Points:_ 3"
   ]
  },
  {
   "cell_type": "code",
   "execution_count": null,
   "id": "933a867a",
   "metadata": {
    "tags": [
     "otter_answer_cell"
    ]
   },
   "outputs": [],
   "source": [
    "def quick_select(arr, k):\n",
    "    \"\"\"\n",
    "    Select the k-th smallest element in arr using the quick select algorithm. To align with the lecture, k starts from 1.\n",
    "    \n",
    "    Args:\n",
    "        arr (list[int]): non-empty array of integers.\n",
    "        k (int): index of the element to select (1 <= k <= len(arr))\n",
    "        \n",
    "    Returns:\n",
    "        (int): The k-th smallest element in arr.   \n",
    "\n",
    "    Note: You may assume that arr is non-empty.\n",
    "    \"\"\"\n",
    "    ..."
   ]
  },
  {
   "cell_type": "code",
   "execution_count": null,
   "id": "92025e6f",
   "metadata": {
    "deletable": false,
    "editable": false
   },
   "outputs": [],
   "source": [
    "grader.check(\"q2\")"
   ]
  },
  {
   "cell_type": "markdown",
   "id": "4ef7b268",
   "metadata": {
    "deletable": false,
    "editable": false
   },
   "source": [
    "## Submission\n",
    "\n",
    "Make sure you have run all cells in your notebook in order before running the cell below, so that all images/graphs appear in the output. The cell below will generate a zip file for you to submit."
   ]
  },
  {
   "cell_type": "code",
   "execution_count": null,
   "id": "8eb5639e",
   "metadata": {
    "deletable": false,
    "editable": false
   },
   "outputs": [],
   "source": [
    "grader.export(pdf=False, force_save=True, run_tests=True)"
   ]
  },
  {
   "cell_type": "markdown",
   "id": "92a9ae7b",
   "metadata": {},
   "source": [
    " "
   ]
  }
 ],
 "metadata": {
  "kernelspec": {
   "display_name": ".venv",
   "language": "python",
   "name": "python3"
  },
  "language_info": {
   "codemirror_mode": {
    "name": "ipython",
    "version": 3
   },
   "file_extension": ".py",
   "mimetype": "text/x-python",
   "name": "python",
   "nbconvert_exporter": "python",
   "pygments_lexer": "ipython3",
   "version": "3.9.6"
  },
  "otter": {
   "OK_FORMAT": false,
   "assignment_name": "quick_select",
   "tests": {
    "q0": "from otter.test_files import test_case\n\nOK_FORMAT = False\n\nname = \"q0\"\npoints = 1\n\n@test_case(points=None, hidden=False)\ndef test_q0(select_with_sorting, tqdm, np, rng_seed):\n    rng = np.random.default_rng(rng_seed)\n    import signal\n\n    def timeout_handler(num, stack):\n        raise Exception('Your solution timed out.')\n    if hasattr(signal, 'SIGALRM') and hasattr(signal, 'alarm'):\n        signal.signal(signal.SIGALRM, timeout_handler)\n        signal.alarm(120)\n    try:\n        for _ in tqdm.tqdm(range(100), desc='Testing correctness'):\n            length = rng.integers(10, 1000)\n            k = rng.integers(1, length)\n            arr = rng.integers(-1000, 1000, size=length).tolist()\n            sorted_arr = sorted(arr)\n            expected = sorted_arr[k - 1]\n            result = select_with_sorting(arr, k)\n            assert result is not None, 'Naive selection has not been implemented.'\n            assert result == expected, f'Expected {expected}, but got {result}'\n    finally:\n        if hasattr(signal, 'SIGALRM') and hasattr(signal, 'alarm'):\n            signal.alarm(0)\n\n",
    "q1": "from otter.test_files import test_case\n\nOK_FORMAT = False\n\nname = \"q1\"\npoints = 2\n\n@test_case(points=None, hidden=False)\ndef test_q1(partition, tqdm, np, rng_seed):\n    rng = np.random.default_rng(rng_seed)\n    import signal\n\n    def timeout_handler(num, stack):\n        raise Exception('Your solution timed out.')\n    if hasattr(signal, 'SIGALRM') and hasattr(signal, 'alarm'):\n        signal.signal(signal.SIGALRM, timeout_handler)\n        signal.alarm(120)\n    try:\n        for _ in tqdm.tqdm(range(100), desc='Random test cases'):\n            length = rng.integers(10, 1000)\n            arr = rng.integers(-1000, 1000, size=length).tolist()\n            (left, middle, right) = partition(arr)\n            pivot = middle[0]\n            assert all((x < pivot for x in left)), 'Left partition contains elements >= pivot'\n            assert all((x > pivot for x in right)), 'Right partition contains elements <= pivot'\n            assert all((x == pivot for x in middle)), 'Middle partition contains elements != pivot'\n            assert len(left) + len(right) + len(middle) == len(arr), 'Partitioned array length mismatch'\n            assert sorted(left + middle + right) == sorted(arr), 'Partitioned array should have the same elements as the original array'\n            assert left is not None and right is not None and (middle is not None), 'Partition function has not been implemented.'\n    finally:\n        if hasattr(signal, 'SIGALRM') and hasattr(signal, 'alarm'):\n            signal.alarm(0)\n\n",
    "q2": "from otter.test_files import test_case\n\nOK_FORMAT = False\n\nname = \"q2\"\npoints = 3\n\n@test_case(points=None, hidden=False)\ndef test_q2(quick_select, tqdm, np, rng_seed):\n    rng = np.random.default_rng(rng_seed)\n    import signal\n\n    def timeout_handler(num, stack):\n        raise Exception('Your solution timed out.')\n    if hasattr(signal, 'SIGALRM') and hasattr(signal, 'alarm'):\n        signal.signal(signal.SIGALRM, timeout_handler)\n        signal.alarm(120)\n    try:\n        for _ in tqdm.tqdm(range(100), desc='Random test cases'):\n            length = rng.integers(10, 1000)\n            k = rng.integers(1, length)\n            arr = rng.integers(-1000, 1000, size=length).tolist()\n            sorted_arr = sorted(arr)\n            expected = sorted_arr[k - 1]\n            result = quick_select(arr, k)\n            assert result is not None, 'Partition function has not been implemented.'\n            assert result == expected, f'Expected {expected}, but got {result}'\n    finally:\n        if hasattr(signal, 'SIGALRM') and hasattr(signal, 'alarm'):\n            signal.alarm(0)\n\n"
   }
  }
 },
 "nbformat": 4,
 "nbformat_minor": 5
}
